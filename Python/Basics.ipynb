{
 "cells": [
  {
   "cell_type": "markdown",
   "metadata": {},
   "source": [
    "# Basic Printing"
   ]
  },
  {
   "cell_type": "code",
   "execution_count": 15,
   "metadata": {},
   "outputs": [],
   "source": [
    "# Throughout there are lines with '#' at the start.\n",
    "# It is a comment statement. All lines with '#' are comment.\n",
    "# So basically anything that is written after the '#' sign is cinsidered as a comment by Python and doesn't execute it."
   ]
  },
  {
   "cell_type": "code",
   "execution_count": 1,
   "metadata": {},
   "outputs": [
    {
     "name": "stdout",
     "output_type": "stream",
     "text": [
      "Hello World!\n"
     ]
    }
   ],
   "source": [
    "#Lets print the classic 'Hello World'\n",
    "print(\"Hello World!\")\n",
    "\n",
    "# Now here you can see that my 'Hello World' is placed between double quotes.\n",
    "# Now all the double quotes indicate are the start and end of my string.\n",
    "# The same can be achieved with single quotes as well."
   ]
  },
  {
   "cell_type": "code",
   "execution_count": 4,
   "metadata": {},
   "outputs": [
    {
     "name": "stdout",
     "output_type": "stream",
     "text": [
      "Day 1 - Python Print function\n",
      "The function is declared like this:\n",
      "print(\"what to print?\")\n"
     ]
    }
   ],
   "source": [
    "print(\"Day 1 - Python Print function\")\n",
    "print(\"The function is declared like this:\")\n",
    "print('print(\"what to print?\")')\n",
    "\n",
    "# Here you see I have printed the entire function inside a single quotes.\n",
    "# A set of double quotes inside a double quote would give us an invalid syntax error.\n",
    "# This is because if I use the following:\n",
    "# print(\"print(\"what to print?\")\")\n",
    "# It interprets my strings as \"print(\" and \")\" the rest seems gibberish.\n",
    "# To avoid this scenario we can enlose our double quotes in single quotes or the other way around as well.\n"
   ]
  },
  {
   "cell_type": "code",
   "execution_count": 6,
   "metadata": {},
   "outputs": [
    {
     "name": "stdout",
     "output_type": "stream",
     "text": [
      "Day 1 - Python Print function \n",
      "The function is declared like this: \n",
      "print('what to print?')\n"
     ]
    }
   ],
   "source": [
    "# Lets print the above statements using a single print stattement\n",
    "\n",
    "print(\"Day 1 - Python Print function \\nThe function is declared like this: \\nprint('what to print?')\")\n",
    "\n",
    "# Here the \\n command is the one that takes the rest of the string to the next line."
   ]
  },
  {
   "cell_type": "code",
   "execution_count": 10,
   "metadata": {},
   "outputs": [
    {
     "name": "stdout",
     "output_type": "stream",
     "text": [
      "Helloname\n",
      "Hello name\n",
      "Hello name\n",
      "Hello name\n"
     ]
    }
   ],
   "source": [
    "# Lets try string concatination:\n",
    "\n",
    "print(\"Hello\" + \"name\")\n",
    "\n",
    "# Here it concats the two strings and prints Helloname\n",
    "\n",
    "# We can add a space so that out output is 'Hello name' in three ways\n",
    "\n",
    "print(\"Hello\" + \" name\") # added a space to name\n",
    "print(\"Hello \" + \"name\") # added a space to Hello\n",
    "print(\"Hello\" + \" \" + \"name\") # added a space in between as a string\n",
    "\n",
    "# Now in python Spaces or tabs are important. Any at the start of line indicates an indetation or a block.\n",
    "# Unlike other languages where we use {} to show blocks of code, Python uses Indentations.\n",
    "# To show an example the code below will give an IndetationError :-\n",
    "\n",
    "#  print(\"Hello\" + \"name\") \n",
    "\n",
    "# To try it, Just remove the '#' symbol and run the cell."
   ]
  },
  {
   "cell_type": "markdown",
   "metadata": {},
   "source": [
    "# Input"
   ]
  },
  {
   "cell_type": "code",
   "execution_count": 14,
   "metadata": {},
   "outputs": [
    {
     "name": "stdout",
     "output_type": "stream",
     "text": [
      "What is your name?Name\n",
      "what is your name?Name\n",
      "Hello Name\n"
     ]
    }
   ],
   "source": [
    "# We will take in input now\n",
    "\n",
    "input(\"What is your name?\")\n",
    "\n",
    "# Here the input() is a function. It waits till you provide the input.\n",
    "# Above inside the input function, there is a prompt that shows what I expect the user to type.\n",
    "\n",
    "print(\"Hello \" + input(\"what is your name?\"))\n",
    "\n",
    "# This is using the print statemment to take a value/input and prints it with the rest of code."
   ]
  },
  {
   "cell_type": "markdown",
   "metadata": {},
   "source": [
    "# Variables"
   ]
  },
  {
   "cell_type": "code",
   "execution_count": 19,
   "metadata": {},
   "outputs": [
    {
     "name": "stdout",
     "output_type": "stream",
     "text": [
      "What is your Name?\n",
      "Name\n",
      "Name\n",
      "Changed Name\n"
     ]
    }
   ],
   "source": [
    "# Variables are used to store data. In the above example if I want to save my name, I can use it using a variable\n",
    "\n",
    "name = input(\"What is your Name?\\n\")\n",
    "\n",
    "# Here the 'name' is a variable. Unlike other languages like C, C++ or even Java, We don't have to mention the type of input. Python assumes it on its own.\n",
    "\n",
    "# A variable as it says, is variable. Its value can be changed  later on.\n",
    "\n",
    "# This example shows how we can do it.\n",
    "print(name)\n",
    "name = \"Changed Name\"\n",
    "print(name)\n",
    "\n",
    "# We can name our variables anything except a few keywords in python. \n",
    "# To make the code more readable, I'd suggest using full length names so that when revisiting the code later on, it makes set to you.\n",
    "# We can't use spaces in variables eg: 'name my' isn't a varible. Instead we can use 'name_my'\n",
    "# Similarly a variable can't start with a number. Eg: 1name isn't a valid variable name.\n"
   ]
  },
  {
   "cell_type": "markdown",
   "metadata": {},
   "source": [
    "# Let's make a fancy name generator"
   ]
  },
  {
   "cell_type": "code",
   "execution_count": 21,
   "metadata": {},
   "outputs": [
    {
     "name": "stdout",
     "output_type": "stream",
     "text": [
      "Welcome to Fancy Name Generator!!\n",
      "What is your favourite food item?pizza\n",
      "What is your favourite place?Swiss\n",
      "Your fancy name is: Swiss pizza\n"
     ]
    }
   ],
   "source": [
    "print(\"Welcome to Fancy Name Generator!!\")\n",
    "\n",
    "food = input(\"What is your favourite food item?\")\n",
    "place = input(\"What is your favourite place?\")\n",
    "\n",
    "print(\"Your fancy name is: \" + place + \" \" + food)"
   ]
  }
 ],
 "metadata": {
  "kernelspec": {
   "display_name": "Python 3",
   "language": "python",
   "name": "python3"
  },
  "language_info": {
   "codemirror_mode": {
    "name": "ipython",
    "version": 3
   },
   "file_extension": ".py",
   "mimetype": "text/x-python",
   "name": "python",
   "nbconvert_exporter": "python",
   "pygments_lexer": "ipython3",
   "version": "3.7.9"
  }
 },
 "nbformat": 4,
 "nbformat_minor": 4
}
