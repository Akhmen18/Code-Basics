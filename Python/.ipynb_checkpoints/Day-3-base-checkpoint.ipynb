{
 "cells": [
  {
   "cell_type": "markdown",
   "metadata": {},
   "source": [
    "# Conditional Check"
   ]
  },
  {
   "cell_type": "code",
   "execution_count": null,
   "metadata": {},
   "outputs": [],
   "source": [
    "print(\"Hey welcome to treasure island You can choose your story.\")\n",
    "inp = input(\"The island has two roads, left and right. Choose your track:\")\n",
    "if(inp == 'left'):\n",
    "    print(\"You are on the wrong track xD\")\n",
    "elif(inp == 'right'):\n",
    "    print(\"You are on the 'right' track xD\")"
   ]
  }
 ],
 "metadata": {
  "kernelspec": {
   "display_name": "Python 3",
   "language": "python",
   "name": "python3"
  },
  "language_info": {
   "codemirror_mode": {
    "name": "ipython",
    "version": 3
   },
   "file_extension": ".py",
   "mimetype": "text/x-python",
   "name": "python",
   "nbconvert_exporter": "python",
   "pygments_lexer": "ipython3",
   "version": "3.7.9"
  }
 },
 "nbformat": 4,
 "nbformat_minor": 4
}
